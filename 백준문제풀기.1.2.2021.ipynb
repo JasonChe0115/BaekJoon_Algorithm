{
 "cells": [
  {
   "cell_type": "code",
   "execution_count": 70,
   "metadata": {},
   "outputs": [
    {
     "name": "stdout",
     "output_type": "stream",
     "text": [
      "144 15\n",
      "159\n"
     ]
    }
   ],
   "source": [
    "a, b = input().split()\n",
    "print(int(a) + int(b))\n"
   ]
  },
  {
   "cell_type": "code",
   "execution_count": 79,
   "metadata": {},
   "outputs": [
    {
     "name": "stdout",
     "output_type": "stream",
     "text": [
      "['제명수가', '컴퓨터의', '고수가', '될', '것이다.']\n",
      "['제명수, 제현오, 서양지, 제연주']\n"
     ]
    }
   ],
   "source": [
    "a = \"제명수가 컴퓨터의 고수가 될 것이다.\"\n",
    "print(a.split())\n",
    "b = \"제명수, 제현오, 서양지, 제연주\"\n",
    "print(b.split(',}'))\n",
    "\n"
   ]
  },
  {
   "cell_type": "code",
   "execution_count": 85,
   "metadata": {},
   "outputs": [
    {
     "name": "stdout",
     "output_type": "stream",
     "text": [
      "1 3\n",
      "0.3333333333333333\n"
     ]
    }
   ],
   "source": [
    "a,b = input().split()\n",
    "print(int(a)/int(b))"
   ]
  },
  {
   "cell_type": "code",
   "execution_count": 90,
   "metadata": {
    "scrolled": true
   },
   "outputs": [
    {
     "name": "stdout",
     "output_type": "stream",
     "text": [
      "7 3\n",
      "10\n",
      "4\n",
      "21\n",
      "2\n",
      "1\n"
     ]
    }
   ],
   "source": [
    "# 첫째 줄에 A+B, 둘째 줄에 A-B, 셋째 줄에 A*B, 넷째 줄에 A/B, 다섯째 줄에 A%B를 출력한다.\n",
    "a, b = input().split()\n",
    "print(int(a) + int(b))\n",
    "print(int(a) - int(b))\n",
    "print(int(a) * int(b))\n",
    "print(int(int(a) / int(b)))\n",
    "print(int(a) % int(b))\n"
   ]
  },
  {
   "cell_type": "code",
   "execution_count": 104,
   "metadata": {},
   "outputs": [
    {
     "name": "stdout",
     "output_type": "stream",
     "text": [
      "5 8 4\n",
      "1\n",
      "1\n",
      "0\n",
      "0\n"
     ]
    }
   ],
   "source": [
    "# (A+B)%C는 ((A%C) + (B%C))%C 와 같을까?\n",
    "# (A×B)%C는 ((A%C) × (B%C))%C 와 같을까?\n",
    "# 세 수 A, B, C가 주어졌을 때, 위의 네 가지 값을 구하는 프로그램을 작성하시오.\n",
    "\n",
    "# 첫째 줄에 A, B, C가 순서대로 주어진다. (2 ≤ A, B, C ≤ 10000)\n",
    "# 첫째 줄에 (A+B)%C, 둘째 줄에 ((A%C) + (B%C))%C, 셋째 줄에 (A×B)%C, 넷째 줄에 ((A%C) × (B%C))%C를 출력한다.\n",
    "\n",
    "a,b,c = input().split()\n",
    "print((int(a)+int(b))%int(c))\n",
    "print(((int(a)%int(c)) + (int(b)%int(c)))%int(c))\n",
    "print((int(a)*int(b))%int(c))\n",
    "print(((int(a)%int(c)) * (int(b)%int(c)))%int(c))\n"
   ]
  },
  {
   "cell_type": "code",
   "execution_count": 116,
   "metadata": {},
   "outputs": [
    {
     "name": "stdout",
     "output_type": "stream",
     "text": [
      "세자리 자연수를 입력하세요:472\n",
      "세자리 자연수를 입력하세요:385\n",
      "2360\n",
      "3776\n",
      "1416\n",
      "181720\n"
     ]
    }
   ],
   "source": [
    "# 마지막 문제. 세자리 자연수 2개의 곱.\n",
    "# 472 385\n",
    "a = int(input(\"세자리 자연수를 입력하세요:\"))\n",
    "b = int(input(\"세자리 자연수를 입력하세요:\"))\n",
    "# 발상 = 어떻게하면, b의 일의 자리만 따로 뺄수있을까?\n",
    "# >> 1. b의 100자리만 꺼내는 법. b를 100으로 나눠서 몫만 남긴다.\n",
    "# >> 2. b의 10자리만 꺼내는 법. b를 1에서 구한 값에 100을 곱해서 뺀 값을 다시 1작업을 반복.  재귀함수랑 비슷핟. 반복작업.\n",
    "# >> 3. b의 1의 자리만 ?\n",
    "# one = temp1%10; \n",
    "# two = (temp1%100)/10; \n",
    "# three = temp1/100;\n",
    "# a,b 둘중에, b만 보면 된다.\n",
    "\n",
    "\n",
    "one = b%10        #b의 1의 자리\n",
    "two = int((b%100)/10)  #b의 10의 자리\n",
    "three = int(((b/100)))   #b의 100의 자리\n",
    "result = a*b\n",
    "# print(one)\n",
    "# print(two)\n",
    "# print(three)\n",
    "print(a*one)\n",
    "print(a*two)\n",
    "print(a*three)\n",
    "print(result)"
   ]
  },
  {
   "cell_type": "code",
   "execution_count": 124,
   "metadata": {},
   "outputs": [
    {
     "name": "stdout",
     "output_type": "stream",
     "text": [
      "123\n",
      "456\n",
      "738\n",
      "615\n",
      "492\n",
      "56088\n"
     ]
    }
   ],
   "source": [
    "a = int(input(\"\"))\n",
    "b = int(input(\"\"))\n",
    "one = b%10        #b의 1의 자리\n",
    "two = int((b%100)/10)  #b의 10의 자리\n",
    "three = int(((b/100)))   #b의 100의 자리\n",
    "result = a*b\n",
    "print(a*one)\n",
    "print(a*two)\n",
    "print(a*three)\n",
    "print(result)"
   ]
  },
  {
   "cell_type": "code",
   "execution_count": 143,
   "metadata": {},
   "outputs": [
    {
     "name": "stdout",
     "output_type": "stream",
     "text": [
      "-10000 -1000\n",
      ">\n"
     ]
    }
   ],
   "source": [
    "# 두 정수 A와 B가 주어졌을 때, A와 B를 비교하는 프로그램을 작성하시오.\n",
    "\n",
    "# 입력\n",
    "# 첫째 줄에 A와 B가 주어진다. A와 B는 공백 한 칸으로 구분되어져 있다.\n",
    "\n",
    "# 출력\n",
    "# 첫째 줄에 다음 세 가지 중 하나를 출력한다.\n",
    "\n",
    "# A가 B보다 큰 경우에는 '>'를 출력한다.\n",
    "# A가 B보다 작은 경우에는 '<'를 출력한다.\n",
    "# A와 B가 같은 경우에는 '=='를 출력한다.\n",
    "\n",
    "a, b = input().split()\n",
    "a = int(a)\n",
    "b = int(b)\n",
    "if a > b:\n",
    "    print(\">\")\n",
    "elif a < b:\n",
    "    print(\"<\")\n",
    "else:\n",
    "    print(\"==\")\n",
    "    \n",
    "# -1000 -100\n",
    "# >   오류\n",
    "# -10000 -1000\n",
    "# >   또 오류"
   ]
  },
  {
   "cell_type": "code",
   "execution_count": 147,
   "metadata": {},
   "outputs": [
    {
     "name": "stdout",
     "output_type": "stream",
     "text": [
      "숫자 두 개를 입력하세요: 123213 4343\n",
      "127556\n"
     ]
    }
   ],
   "source": [
    "# a, b = input('숫자 두 개를 입력하세요: ').split()    # 입력받은 값을 공백을 기준으로 분리  >> 문자열로.\n",
    "# a = int(a)\n",
    "# b = int(b)\n",
    "# print(a + b)"
   ]
  },
  {
   "cell_type": "code",
   "execution_count": null,
   "metadata": {},
   "outputs": [],
   "source": [
    "# 시험 점수를 입력받아 90 ~ 100점은 A, 80 ~ 89점은 B, 70 ~ 79점은 C, 60 ~ 69점은 D, 나머지 점수는 F를 출력하는 프로그램을 작성하시오.\n",
    "\n",
    "# 입력\n",
    "# 첫째 줄에 시험 점수가 주어진다. 시험 점수는 0보다 크거나 같고, 100보다 작거나 같은 정수이다.\n",
    "\n",
    "# 출력\n",
    "# 시험 성적을 출력한다.\n",
    "\n",
    "a = int(input(\"\"))\n",
    "\n",
    "if 100 >= a >= 90:\n",
    "    print(\"A\")\n",
    "elif 90 > a >= 80:\n",
    "    print(\"B\")\n",
    "elif 80 > a >= 70:\n",
    "    print(\"C\")\n",
    "elif 70 > a >= 60:\n",
    "    print(\"D\")\n",
    "else:\n",
    "    print(\"F\")"
   ]
  },
  {
   "cell_type": "code",
   "execution_count": 1,
   "metadata": {},
   "outputs": [
    {
     "name": "stdout",
     "output_type": "stream",
     "text": [
      "500\n",
      "0\n"
     ]
    }
   ],
   "source": [
    "# 연도가 주어졌을 때, 윤년이면 1, 아니면 0을 출력하는 프로그램을 작성하시오.\n",
    "\n",
    "# 윤년은 연도가 4의 배수이면서, 100의 배수가 아닐 때 또는 400의 배수일 때이다.\n",
    "\n",
    "# 예를 들어, 2012년은 4의 배수이면서 100의 배수가 아니라서 윤년이다. \n",
    "# 1900년은 100의 배수이고 400의 배수는 아니기 때문에 윤년이 아니다. \n",
    "# 하지만, 2000년은 400의 배수이기 때문에 윤년이다.\n",
    "\n",
    "# 첫째 줄에 연도가 주어진다. 연도는 1보다 크거나 같고, 4000보다 작거나 같은 자연수이다.\n",
    "# (출력) 첫째 줄에 윤년이면 1, 아니면 0을 출력한다.\n",
    "\n",
    "a = int(input(\"\"))\n",
    "if (((a%4==0) and a%100!=0) or a%400==0):\n",
    "    print(\"1\")\n",
    "else:\n",
    "    print(\"0\")"
   ]
  },
  {
   "cell_type": "code",
   "execution_count": 3,
   "metadata": {},
   "outputs": [
    {
     "name": "stdout",
     "output_type": "stream",
     "text": [
      "3\n",
      "6\n",
      "1\n"
     ]
    }
   ],
   "source": [
    "# 사분면 판단문제\n",
    "x = float(input(\"\"))\n",
    "y = float(input(\"\"))\n",
    "\n",
    "if x>0 and y>0:\n",
    "    print(\"1\")\n",
    "elif x<0 and y>0:\n",
    "    print(\"2\")\n",
    "elif x<0 and y<0:\n",
    "    print(\"3\")\n",
    "elif x>0 and y<0:\n",
    "    print(\"4\")"
   ]
  },
  {
   "cell_type": "code",
   "execution_count": null,
   "metadata": {},
   "outputs": [],
   "source": [
    "# 상근이는 매일 아침 알람을 듣고 일어난다. \n",
    "# 알람을 듣고 바로 일어나면 다행이겠지만, 항상 조금만 더 자려는 마음 때문에 매일 학교를 지각하고 있다.\n",
    "\n",
    "# 상근이는 모든 방법을 동원해보았지만, 조금만 더 자려는 마음은 그 어떤 것도 없앨 수가 없었다.\n",
    "# 이런 상근이를 불쌍하게 보던, 창영이는 자신이 사용하는 방법을 추천해 주었다.\n",
    "# 바로 \"45분 일찍 알람 설정하기\"이다.\n",
    "# 이 방법은 단순하다. 원래 설정되어 있는 알람을 45분 앞서는 시간으로 바꾸는 것이다. \n",
    "# 어차피 알람 소리를 들으면, 알람을 끄고 조금 더 잘 것이기 때문이다. \n",
    "# 이 방법을 사용하면, 매일 아침 더 잤다는 기분을 느낄 수 있고, 학교도 지각하지 않게 된다.\n",
    "\n",
    "# 현재 상근이가 설정한 알람 시각이 주어졌을 때, 창영이의 방법을 사용한다면,\n",
    "# 이를 언제로 고쳐야 하는지 구하는 프로그램을 작성하시오.\n",
    "\n",
    "# 입력\n",
    "# 첫째 줄에 두 정수 H와 M이 주어진다. (0 ≤ H ≤ 23, 0 ≤ M ≤ 59) \n",
    "# 그리고 이것은 현재 상근이가 설정한 놓은 알람 시간 H시 M분을 의미한다.\n",
    "\n",
    "# 입력 시간은 24시간 표현을 사용한다. 24시간 표현에서 하루의 시작은 0:0(자정)이고,\n",
    "# 끝은 23:59(다음날 자정 1분 전)이다. 시간을 나타낼 때, 불필요한 0은 사용하지 않는다.\n",
    "\n",
    "# 출력\n",
    "# 첫째 줄에 상근이가 창영이의 방법을 사용할 때, 설정해야 하는 알람 시간을 출력한다. (입력과 같은 형태로 출력하면 된다.)\n"
   ]
  }
 ],
 "metadata": {
  "kernelspec": {
   "display_name": "Python 3",
   "language": "python",
   "name": "python3"
  },
  "language_info": {
   "codemirror_mode": {
    "name": "ipython",
    "version": 3
   },
   "file_extension": ".py",
   "mimetype": "text/x-python",
   "name": "python",
   "nbconvert_exporter": "python",
   "pygments_lexer": "ipython3",
   "version": "3.8.5"
  }
 },
 "nbformat": 4,
 "nbformat_minor": 4
}
